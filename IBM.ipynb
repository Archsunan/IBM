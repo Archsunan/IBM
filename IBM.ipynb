{
 "cells": [
  {
   "cell_type": "markdown",
   "id": "d25da654-c51e-48fd-bbbb-3d2cf4b6dfa1",
   "metadata": {},
   "source": [
    "# Data Science Tools and Arithmetic Expressions\n"
   ]
  },
  {
   "cell_type": "markdown",
   "id": "57618954-6470-4538-8998-0ac02871ce0e",
   "metadata": {},
   "source": [
    "## Introduction\n",
    "In this notebook, I will explore different tools and languages used in data science, as well as demonstrate basic arithmetic operations.\n"
   ]
  },
  {
   "cell_type": "markdown",
   "id": "bb51a374-6ba1-4858-ad42-e65782a4abf9",
   "metadata": {},
   "source": [
    "## Data Science Languages\n",
    "1. Python\n",
    "2. R\n",
    "3. SQL\n",
    "4. Java\n"
   ]
  },
  {
   "cell_type": "markdown",
   "id": "034710f0-da6e-4c8f-9659-3925807b0d01",
   "metadata": {},
   "source": [
    "## Data Science Libraries\n",
    "1. Pandas\n",
    "2. NumPy\n",
    "3. Matplotlib\n",
    "4. Scikit-learn\n"
   ]
  },
  {
   "cell_type": "markdown",
   "id": "b53b8af2-8fbf-4131-acb0-0915f7efef1a",
   "metadata": {},
   "source": [
    "## Data Science Tools\n",
    "\n",
    "| Tool        | Purpose         |\n",
    "|-------------|-----------------|\n",
    "| JupyterLite | Notebook tool   |\n",
    "| GitHub      | Version control |\n",
    "| Anaconda    | Package manager |\n"
   ]
  },
  {
   "cell_type": "markdown",
   "id": "5c9b6e69-fdf5-487f-9840-cd548a948133",
   "metadata": {},
   "source": [
    "## Arithmetic Expression Examples\n",
    "In this section, I will demonstrate simple arithmetic operations like multiplication and addition using Python.\n"
   ]
  },
  {
   "cell_type": "code",
   "execution_count": 7,
   "id": "40ecee8d-b9e5-46c6-a473-cbb7fcd3bb49",
   "metadata": {},
   "outputs": [
    {
     "data": {
      "text/plain": [
       "53"
      ]
     },
     "execution_count": 7,
     "metadata": {},
     "output_type": "execute_result"
    }
   ],
   "source": [
    "a = 107\n",
    "b = 5\n",
    "result = a * b + 3\n",
    "result\n"
   ]
  },
  {
   "cell_type": "code",
   "execution_count": 9,
   "id": "7bf60561-6949-42ba-b5f8-ea008e21b09f",
   "metadata": {},
   "outputs": [
    {
     "data": {
      "text/plain": [
       "2.0"
      ]
     },
     "execution_count": 9,
     "metadata": {},
     "output_type": "execute_result"
    }
   ],
   "source": [
    "minutes = 120\n",
    "hours = minutes / 60\n",
    "hours\n"
   ]
  },
  {
   "cell_type": "markdown",
   "id": "9095ec64-8fe2-4259-898a-b7a356f5da8b",
   "metadata": {},
   "source": [
    "## Objectives\n",
    "- Understand basic arithmetic operations in Python.\n",
    "- Learn about different data science tools and languages.\n"
   ]
  },
  {
   "cell_type": "markdown",
   "id": "1e4efb61-3423-4405-9ad8-71cc7add614d",
   "metadata": {},
   "source": [
    "## Author\n",
    "S.ARCHSUNAN\n"
   ]
  },
  {
   "cell_type": "code",
   "execution_count": null,
   "id": "04691c45-2abc-4376-a323-8cf1995bb9df",
   "metadata": {},
   "outputs": [],
   "source": []
  }
 ],
 "metadata": {
  "kernelspec": {
   "display_name": "Python [conda env:base] *",
   "language": "python",
   "name": "conda-base-py"
  },
  "language_info": {
   "codemirror_mode": {
    "name": "ipython",
    "version": 3
   },
   "file_extension": ".py",
   "mimetype": "text/x-python",
   "name": "python",
   "nbconvert_exporter": "python",
   "pygments_lexer": "ipython3",
   "version": "3.12.7"
  }
 },
 "nbformat": 4,
 "nbformat_minor": 5
}
